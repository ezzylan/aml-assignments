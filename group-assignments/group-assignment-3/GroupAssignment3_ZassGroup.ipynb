{
 "cells": [
  {
   "cell_type": "markdown",
   "metadata": {},
   "source": [
    "### Group Assignment 3 (20%)"
   ]
  },
  {
   "cell_type": "markdown",
   "metadata": {},
   "source": [
    "#### Group Members\n",
    "- Ezlan Zulfiqree bin Hashim (17192056)\n",
    "- Nurulnadiah binti Sukerman (S2178467)\n",
    "- Nur Dhania Kamalia Kamarol (S2121964)"
   ]
  },
  {
   "cell_type": "markdown",
   "metadata": {},
   "source": [
    "#### 1. Instantiate fetus training and testing datasets (Ezlan)"
   ]
  },
  {
   "cell_type": "markdown",
   "metadata": {},
   "source": [
    "#### 2. Instantiate MLP class with init and forward methods (Ezlan)"
   ]
  },
  {
   "cell_type": "markdown",
   "metadata": {},
   "source": [
    "#### 3. Train MLP model with fetus training data (Nadiah)"
   ]
  },
  {
   "cell_type": "markdown",
   "metadata": {},
   "source": [
    "#### 4. Evaluate MLP model performance with fetus testing data (Nadiah)"
   ]
  },
  {
   "cell_type": "markdown",
   "metadata": {},
   "source": [
    "#### 5. Tabulate testing accuracy with different hyperparameters (Dhania)"
   ]
  },
  {
   "cell_type": "markdown",
   "metadata": {},
   "source": [
    "#### 6. Plot training and testing loss, training and testing accuracy across epochs (Dhania)"
   ]
  }
 ],
 "metadata": {
  "language_info": {
   "name": "python"
  }
 },
 "nbformat": 4,
 "nbformat_minor": 2
}
