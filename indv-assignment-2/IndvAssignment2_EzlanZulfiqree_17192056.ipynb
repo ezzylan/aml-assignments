{
 "cells": [
  {
   "cell_type": "markdown",
   "metadata": {},
   "source": [
    "### Individual Assignment 2 (10%)\n"
   ]
  },
  {
   "cell_type": "markdown",
   "metadata": {},
   "source": [
    "-   **Name:** Ezlan Zulfiqree bin Hashim\n",
    "-   **Matric Number:** 17192056\n"
   ]
  },
  {
   "cell_type": "markdown",
   "metadata": {},
   "source": [
    "#### 1. Logistic Regression model from scratch\n"
   ]
  },
  {
   "cell_type": "code",
   "execution_count": null,
   "metadata": {},
   "outputs": [],
   "source": [
    "import numpy as np\n",
    "\n",
    "\n",
    "def CalcObj(XTrain, YTrain, wHat):\n",
    "    n = len(YTrain)\n",
    "    X_with_bias = np.hstack((np.ones((n, 1)), XTrain))\n",
    "    scores = np.dot(X_with_bias, wHat)\n",
    "    obj = -np.mean(YTrain * scores - np.log(1 + np.exp(scores)))\n",
    "    return obj\n",
    "\n",
    "\n",
    "def CalcGrad(XTrain, YTrain, wHat):\n",
    "    n = len(YTrain)\n",
    "    X_with_bias = np.hstack((np.ones((n, 1)), XTrain))\n",
    "    scores = np.dot(X_with_bias, wHat)\n",
    "    probs = 1 / (1 + np.exp(-scores))\n",
    "    grad = np.dot(X_with_bias.T, probs - YTrain) / n\n",
    "    return grad\n",
    "\n",
    "\n",
    "def UpdateParams(weight, grad, lr):\n",
    "    wHat = weight - lr * grad\n",
    "    return wHat\n",
    "\n",
    "\n",
    "def CheckConvg(oldObj, newObj, tol):\n",
    "    hasConverged = abs(newObj - oldObj) < tol\n",
    "    return hasConverged\n",
    "\n",
    "\n",
    "class LogisticRegressionSc:\n",
    "    def __init__(self, iters, lr=0.01, tol=0.001):\n",
    "        self.iters = iters\n",
    "        self.lr = lr\n",
    "        self.tol = tol\n",
    "\n",
    "    def GradientDescent(self, XTrain, YTrain):\n",
    "        p = XTrain.shape[1]\n",
    "        wHat = np.zeros((p + 1, 1))\n",
    "        objVals = []\n",
    "\n",
    "        for _ in range(self.iters):\n",
    "            oldObj = CalcObj(XTrain, YTrain, wHat)\n",
    "            grad = CalcGrad(XTrain, YTrain, wHat)\n",
    "            wHat = UpdateParams(wHat, grad, self.lr)\n",
    "            newObj = CalcObj(XTrain, YTrain, wHat)\n",
    "            objVals.append(newObj)\n",
    "\n",
    "            if CheckConvg(oldObj, newObj, self.tol):\n",
    "                break\n",
    "\n",
    "        return wHat, objVals\n",
    "\n",
    "\n",
    "def PredictLabels(XTest, YTest, wHat):\n",
    "    m = XTest.shape[0]\n",
    "    X_with_bias = np.hstack((np.ones((m, 1)), XTest))\n",
    "    scores = np.dot(X_with_bias, wHat)\n",
    "    probs = 1 / (1 + np.exp(-scores))\n",
    "    yHat = (probs >= 0.5).astype(int)\n",
    "    numErrors = np.sum(yHat != YTest)\n",
    "    return yHat, numErrors"
   ]
  },
  {
   "cell_type": "markdown",
   "metadata": {},
   "source": [
    "##### Train logistic regression model with Train_toydata.txt\n"
   ]
  },
  {
   "cell_type": "code",
   "execution_count": null,
   "metadata": {},
   "outputs": [],
   "source": [
    "with open(\"Train_toydata.txt\") as trainToyDataFile:\n",
    "    n = len(trainToyDataFile.readlines())\n",
    "    trainToyDataFile.seek(0)\n",
    "    XTrain = np.empty([n, 2])\n",
    "    YTrain = np.empty([n, 1])\n",
    "\n",
    "    for i in range(n):\n",
    "        data = trainToyDataFile.readline().strip().split()\n",
    "        XTrain[i] = np.array([data[0], data[1]])\n",
    "        YTrain[i] = np.array([data[2]])\n",
    "\n",
    "logRegTrain = LogisticRegressionSc(iters=1000)\n",
    "wHat, objVals = logRegTrain.GradientDescent(XTrain, YTrain)"
   ]
  },
  {
   "cell_type": "markdown",
   "metadata": {},
   "source": [
    "##### Test logistic regression model with Test_toydata.txt\n"
   ]
  },
  {
   "cell_type": "code",
   "execution_count": null,
   "metadata": {},
   "outputs": [],
   "source": [
    "with open(\"Test_toydata.txt\") as testToyDataFile:\n",
    "    m = len(testToyDataFile.readlines())\n",
    "    testToyDataFile.seek(0)\n",
    "    XTest = np.empty([m, 2])\n",
    "    YTest = np.empty([m, 1])\n",
    "\n",
    "    for i in range(m):\n",
    "        data = testToyDataFile.readline().strip().split()\n",
    "        XTest[i] = np.array([data[0], data[1]])\n",
    "        YTest[i] = np.array([data[2]])\n",
    "\n",
    "yHat, numErrors = PredictLabels(XTest, YTest, wHat)\n",
    "print(yHat)\n",
    "print(\"numErrors:\", numErrors)"
   ]
  },
  {
   "cell_type": "markdown",
   "metadata": {},
   "source": [
    "#### 2. Logistic regression model using built-in PyTorch functions\n"
   ]
  },
  {
   "cell_type": "code",
   "execution_count": null,
   "metadata": {},
   "outputs": [],
   "source": [
    "import torch\n",
    "import torch.nn as nn\n",
    "import torch.optim as optim\n",
    "\n",
    "\n",
    "class LogisticRegressionPT(nn.Module):\n",
    "    def __init__(self, input_dim):\n",
    "        super(LogisticRegressionPT, self).__init__()\n",
    "        self.linear = nn.Linear(input_dim, 1)\n",
    "\n",
    "    def forward(self, x):\n",
    "        out = torch.sigmoid(self.linear(x))\n",
    "        return out"
   ]
  },
  {
   "cell_type": "markdown",
   "metadata": {},
   "source": [
    "##### Train PyTorch logistic regression model with Train_toydata.txt\n"
   ]
  },
  {
   "cell_type": "code",
   "execution_count": null,
   "metadata": {},
   "outputs": [],
   "source": [
    "with open(\"Train_toydata.txt\") as trainToyDataFile:\n",
    "    n = len(trainToyDataFile.readlines())\n",
    "    trainToyDataFile.seek(0)\n",
    "    XTrain = torch.empty((n, 2))\n",
    "    YTrain = torch.empty((n, 1))\n",
    "\n",
    "    for i in range(n):\n",
    "        data = trainToyDataFile.readline().strip().split()\n",
    "        XTrain[i, 0] = float(data[0])\n",
    "        XTrain[i, 1] = float(data[1])\n",
    "        YTrain[i] = float(data[2])\n",
    "\n",
    "input_dim = XTrain.shape[1]\n",
    "model = LogisticRegressionPT(input_dim)\n",
    "\n",
    "criterion = nn.BCELoss()\n",
    "optimizer = optim.SGD(model.parameters(), lr=0.01)\n",
    "num_epochs = 1000\n",
    "\n",
    "for epoch in range(num_epochs):\n",
    "    outputs = model(XTrain)\n",
    "    loss = criterion(outputs, YTrain)\n",
    "\n",
    "    optimizer.zero_grad()\n",
    "    loss.backward()\n",
    "    optimizer.step()\n",
    "\n",
    "    if (epoch + 1) % 100 == 0:\n",
    "        print(f\"Epoch [{epoch + 1}/{num_epochs}], Loss: {loss.item()}\")"
   ]
  },
  {
   "cell_type": "markdown",
   "metadata": {},
   "source": [
    "##### Test PyTorch logistic regression model with Test_toydata.txt\n"
   ]
  },
  {
   "cell_type": "code",
   "execution_count": null,
   "metadata": {},
   "outputs": [],
   "source": [
    "with open(\"Test_toydata.txt\") as testToyDataFile:\n",
    "    m = len(testToyDataFile.readlines())\n",
    "    testToyDataFile.seek(0)\n",
    "    XTest = torch.empty((m, 2))\n",
    "    YTest = torch.empty((m, 1))\n",
    "\n",
    "    for i in range(m):\n",
    "        data = testToyDataFile.readline().strip().split()\n",
    "        XTest[i, 0] = float(data[0])\n",
    "        XTest[i, 1] = float(data[1])\n",
    "        YTest[i] = float(data[2])\n",
    "\n",
    "with torch.no_grad():\n",
    "    yHat = model(XTest)\n",
    "    predictions = (yHat >= 0.5).squeeze().numpy()\n",
    "\n",
    "numErrorsPT = np.sum(yHat != YTest.numpy())\n",
    "print(yHat)\n",
    "print(\"numErrors:\", numErrorsPT)"
   ]
  },
  {
   "cell_type": "markdown",
   "metadata": {},
   "source": [
    "#### 3. Compare testing accuracy between own functions and built-in PyTorch functions\n"
   ]
  },
  {
   "cell_type": "code",
   "execution_count": null,
   "metadata": {},
   "outputs": [],
   "source": [
    "from tabulate import tabulate\n",
    "\n",
    "data = [[\"Scratch\", numErrors], [\"PyTorch\", numErrorsPT]]\n",
    "col_names = [\"model\", \"numErrors\"]\n",
    "print(tabulate(data, headers=col_names))"
   ]
  }
 ],
 "metadata": {
  "kernelspec": {
   "display_name": "aml-env",
   "language": "python",
   "name": "python3"
  },
  "language_info": {
   "codemirror_mode": {
    "name": "ipython",
    "version": 3
   },
   "file_extension": ".py",
   "mimetype": "text/x-python",
   "name": "python",
   "nbconvert_exporter": "python",
   "pygments_lexer": "ipython3",
   "version": "3.11.6"
  }
 },
 "nbformat": 4,
 "nbformat_minor": 2
}
